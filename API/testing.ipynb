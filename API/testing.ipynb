{
 "cells": [
  {
   "cell_type": "code",
   "execution_count": null,
   "id": "04889b9e",
   "metadata": {},
   "outputs": [],
   "source": [
    "import numpy as np\n",
    "import kpm\n",
    "import wget\n",
    "import os\n",
    "import pickle"
   ]
  },
  {
   "cell_type": "code",
   "execution_count": null,
   "id": "0688bc93",
   "metadata": {},
   "outputs": [],
   "source": [
    "url = 'https://www.emilyjgriffith.com/s/'\n",
    "#if(os.path.isfile('lnqs.npy')==False): wget.download(url+'lnqs.npy') # W22 q vectors\n",
    "#if(os.path.isfile('lnAs.npy')==False): wget.download(url+'lnAs.npy') # W22 A vectors\n",
    "#if(os.path.isfile('alldata_train.npy')==False): wget.download(url+'alldata_train.npy') # APOGEE stellar abundances\n",
    "#if(os.path.isfile('allivars_train.npy')==False): wget.download(url+'allivars_train.npy') # APOGEE stellar abundance inverse variance"
   ]
  },
  {
   "cell_type": "code",
   "execution_count": null,
   "id": "861b1015",
   "metadata": {},
   "outputs": [],
   "source": [
    "elements  = np.array(['Mg','O','Si','S','Ca','CN','Na','Al','K','Cr','Fe','Ni','Mn','Co','Ce'])\n",
    "alldata = np.load('alldata_train.npy')\n",
    "allivars = np.load('allivars_train.npy')\n",
    "\n",
    "data = kpm.abund_data(elements, alldata, allivars)"
   ]
  },
  {
   "cell_type": "code",
   "execution_count": null,
   "id": "2eaaa432",
   "metadata": {},
   "outputs": [],
   "source": [
    "data"
   ]
  },
  {
   "cell_type": "code",
   "execution_count": null,
   "id": "1e33b23d",
   "metadata": {},
   "outputs": [],
   "source": [
    "fixed = kpm.fixed_params(data, K=2)"
   ]
  },
  {
   "cell_type": "code",
   "execution_count": null,
   "id": "928176f8",
   "metadata": {},
   "outputs": [],
   "source": [
    "knot_xs = np.array([[-0.8, -0.5, -0.4, -0.3, -0.2, -0.1, 0.0, 0.1, 0.2, 0.3, 0.6],\n",
    "                    [-0.8, -0.5, -0.4, -0.3, -0.2, -0.1, 0.0, 0.1, 0.2, 0.3, 0.6]])"
   ]
  },
  {
   "cell_type": "code",
   "execution_count": null,
   "id": "e89b7cda",
   "metadata": {},
   "outputs": [],
   "source": [
    "fixed.knot_xs = knot_xs"
   ]
  },
  {
   "cell_type": "code",
   "execution_count": null,
   "id": "89814596",
   "metadata": {},
   "outputs": [],
   "source": [
    "data, fit = kpm.initialize_2(data, fixed)"
   ]
  },
  {
   "cell_type": "code",
   "execution_count": null,
   "id": "8534b456",
   "metadata": {},
   "outputs": [],
   "source": [
    "# Fix this filename\n",
    "file = '/Users/emilygriffith/KProcessModel/API/test_fits'\n",
    "data, fixed, fit = kpm.run_kpm(data, fixed, file, 'MW_disk', N_itters=16, overwrite=True)"
   ]
  },
  {
   "cell_type": "code",
   "execution_count": null,
   "id": "bc290081",
   "metadata": {},
   "outputs": [],
   "source": [
    "kpm.plot_qs(data, fixed, fit)"
   ]
  },
  {
   "cell_type": "code",
   "execution_count": null,
   "id": "c716780d",
   "metadata": {},
   "outputs": [],
   "source": [
    "kpm.plot_As(fit)"
   ]
  },
  {
   "cell_type": "code",
   "execution_count": null,
   "id": "5af69652",
   "metadata": {},
   "outputs": [],
   "source": [
    "kpm.plot_model_abundances(data, fixed, fit, noise=True)"
   ]
  },
  {
   "cell_type": "code",
   "execution_count": null,
   "id": "83a38995",
   "metadata": {},
   "outputs": [],
   "source": []
  }
 ],
 "metadata": {
  "kernelspec": {
   "display_name": "Python 3 (ipykernel)",
   "language": "python",
   "name": "python3"
  },
  "language_info": {
   "codemirror_mode": {
    "name": "ipython",
    "version": 3
   },
   "file_extension": ".py",
   "mimetype": "text/x-python",
   "name": "python",
   "nbconvert_exporter": "python",
   "pygments_lexer": "ipython3",
   "version": "3.9.12"
  }
 },
 "nbformat": 4,
 "nbformat_minor": 5
}
