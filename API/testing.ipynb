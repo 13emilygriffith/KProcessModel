{
 "cells": [
  {
   "cell_type": "code",
   "execution_count": 1,
   "id": "04889b9e",
   "metadata": {},
   "outputs": [],
   "source": [
    "import numpy as np\n",
    "import kpm\n",
    "import wget\n",
    "import os"
   ]
  },
  {
   "cell_type": "code",
   "execution_count": 2,
   "id": "0688bc93",
   "metadata": {},
   "outputs": [],
   "source": [
    "url = 'https://www.emilyjgriffith.com/s/'\n",
    "#if(os.path.isfile('lnqs.npy')==False): wget.download(url+'lnqs.npy') # W22 q vectors\n",
    "#if(os.path.isfile('lnAs.npy')==False): wget.download(url+'lnAs.npy') # W22 A vectors\n",
    "#if(os.path.isfile('alldata_train.npy')==False): wget.download(url+'alldata_train.npy') # APOGEE stellar abundances\n",
    "#if(os.path.isfile('allivars_train.npy')==False): wget.download(url+'allivars_train.npy') # APOGEE stellar abundance inverse variance"
   ]
  },
  {
   "cell_type": "code",
   "execution_count": 3,
   "id": "861b1015",
   "metadata": {},
   "outputs": [],
   "source": [
    "elements  = np.array(['Mg','O','Si','S','Ca','CN','Na','Al','K','Cr','Fe','Ni','Mn','Co','Ce'])\n",
    "alldata = np.load('alldata_train.npy')\n",
    "allivars = np.load('allivars_train.npy')\n",
    "\n",
    "data = kpm.AbundData(elements, alldata, allivars)"
   ]
  },
  {
   "cell_type": "code",
   "execution_count": 10,
   "id": "1e33b23d",
   "metadata": {},
   "outputs": [],
   "source": [
    "kpm_init = kpm.FixedParams(data, K=1)"
   ]
  },
  {
   "cell_type": "code",
   "execution_count": 11,
   "id": "a9b0c4c5",
   "metadata": {},
   "outputs": [],
   "source": [
    "kpm_init.K = 1"
   ]
  },
  {
   "cell_type": "code",
   "execution_count": 6,
   "id": "928176f8",
   "metadata": {},
   "outputs": [],
   "source": [
    "knot_xs = np.array([[-0.8, -0.5, -0.4, -0.3, -0.2, -0.1, 0.0, 0.1, 0.2, 0.3, 0.6],\n",
    "                    [-0.8, -0.5, -0.4, -0.3, -0.2, -0.1, 0.0, 0.1, 0.2, 0.3, 0.6]])"
   ]
  },
  {
   "cell_type": "code",
   "execution_count": 7,
   "id": "31e5d544",
   "metadata": {},
   "outputs": [],
   "source": [
    "# kpm_init.knot_xs = knot_xs"
   ]
  },
  {
   "cell_type": "code",
   "execution_count": 12,
   "id": "31700994",
   "metadata": {},
   "outputs": [
    {
     "name": "stdout",
     "output_type": "stream",
     "text": [
      "initialize_2(): []\n",
      "initialize_2(): []\n"
     ]
    }
   ],
   "source": [
    "ad, fit = kpm.initialize_2(data, kpm_init)"
   ]
  },
  {
   "cell_type": "code",
   "execution_count": 16,
   "id": "31c92842",
   "metadata": {},
   "outputs": [
    {
     "name": "stdout",
     "output_type": "stream",
     "text": [
      "9935339.0 10137286.0 6706973.5 6706973.0 6226720.0\n",
      "Aq-step(): we took a step! -5 6226720.0 3708619.0\n",
      "1\n",
      "6226720.0 6234439.0 6206545.0 6206544.5 6201061.5\n",
      "Aq-step(): we took a step! -5 6201061.5 25658.5\n",
      "2\n"
     ]
    }
   ],
   "source": [
    "for i in range(2):\n",
    "    fit = kpm.Aq_step(ad, kpm_init, fit)\n",
    "    print(i + 1)"
   ]
  },
  {
   "cell_type": "code",
   "execution_count": null,
   "id": "ec7534a6",
   "metadata": {},
   "outputs": [],
   "source": []
  }
 ],
 "metadata": {
  "kernelspec": {
   "display_name": "Python 3 (ipykernel)",
   "language": "python",
   "name": "python3"
  },
  "language_info": {
   "codemirror_mode": {
    "name": "ipython",
    "version": 3
   },
   "file_extension": ".py",
   "mimetype": "text/x-python",
   "name": "python",
   "nbconvert_exporter": "python",
   "pygments_lexer": "ipython3",
   "version": "3.10.9"
  }
 },
 "nbformat": 4,
 "nbformat_minor": 5
}
