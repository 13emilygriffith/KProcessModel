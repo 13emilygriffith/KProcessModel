{
 "cells": [
  {
   "cell_type": "markdown",
   "id": "e06e5306",
   "metadata": {},
   "source": [
    "# Example: Create input files for KPM\n",
    "\n",
    "In this notebook, we will convert stellar abundances as taken from APOGEE DR17 into a format needed for KPM. We will remove untrustworthy data and construct a C+N abundance. KPM requires two inputs: an ```alldata``` file and an ```allivars``` file. Both need to be numpy arrays with shape(number of stars, number of elements). I (Emily) like named arrays, so I'll create a pandas DataFrame and then convert it to a numpy array at the end."
   ]
  },
  {
   "cell_type": "code",
   "execution_count": 1,
   "id": "a30afd9f",
   "metadata": {},
   "outputs": [],
   "source": [
    "from matplotlib import pyplot as plt \n",
    "from matplotlib.colors import LogNorm\n",
    "import numpy as np\n",
    "from astropy.io import fits\n",
    "import pandas as pd"
   ]
  },
  {
   "cell_type": "markdown",
   "id": "0938301d",
   "metadata": {},
   "source": [
    "Read in the APOGEE file that you want to work with. Note that this file is not contained within this example directory, so you will need to download it and change the path."
   ]
  },
  {
   "cell_type": "code",
   "execution_count": 2,
   "id": "6a50b0a4",
   "metadata": {},
   "outputs": [],
   "source": [
    "name='/Users/emilygriffith/NSF/SDSS_Data/allStarLite-dr17-synspec_rev1.fits'\n",
    "hdu = fits.open(name)\n",
    "hdr=hdu[1].header\n",
    "data = hdu[1].data\n",
    "hdu.close()"
   ]
  },
  {
   "cell_type": "markdown",
   "id": "50e78857",
   "metadata": {},
   "source": [
    "We do not want to use the bad measurements in APOGEE, so we remove stars with the star bad and no aspcap results flags set. I include other cuts to slightly restrict the sample in temperatures, logg, and metallicity. These cuts will recreate the ```alldata_test.npy``` sample in the input folder. \n",
    "\n",
    "Alternatively, you could load your own fits file of APOGEE data, so long as it has the named abundance columns used later."
   ]
  },
  {
   "cell_type": "code",
   "execution_count": 3,
   "id": "07e82fef",
   "metadata": {},
   "outputs": [],
   "source": [
    "mask = np.where(((data['ASPCAPFLAG'] & (2**23)) == 0) & #star bad\n",
    "                ((data['ASPCAPFLAG'] & (2**31)) == 0) & #no aspcap results\n",
    "                ((data['EXTRATARG'] == 0 )) &\n",
    "                (data['TEFF'] <= 6000) &\n",
    "                (data['TEFF'] >= 3200) &\n",
    "                (data['LOGG'] <= 3.5) &\n",
    "                (data['LOGG'] >= -3) &\n",
    "                ((data['MG_FE'] + data['FE_H']) >= -0.75) \n",
    "                )[0]\n",
    "\n",
    "data_sub = data[mask]"
   ]
  },
  {
   "cell_type": "markdown",
   "id": "4a52b350",
   "metadata": {},
   "source": [
    "Next we will use the APOGEE data to construct the ```alldata``` and ```allivars``` arrays. The order of elements in these arrays will be the same as the ```elements``` array below. We fill ```alldata``` with the [X/H] abundances and ```allivars``` with the inverse variance of [X/Fe]. Since the error on Fe is small, this is a good approximation. "
   ]
  },
  {
   "cell_type": "code",
   "execution_count": 4,
   "id": "c3e0025e",
   "metadata": {},
   "outputs": [],
   "source": [
    "elements  = np.array(['Mg','O','Si','S','Ca','CN','Na','Al','K','Cr','Fe','Ni','Mn','Co','Ce'])\n",
    "N = len(data_sub)\n",
    "M = len(elements)"
   ]
  },
  {
   "cell_type": "code",
   "execution_count": 5,
   "id": "5abc56dc",
   "metadata": {},
   "outputs": [],
   "source": [
    "alldata = np.zeros([len(data_sub), len(elements)])\n",
    "allivars = np.zeros([len(data_sub), len(elements)])\n",
    "\n",
    "\n",
    "for i,e in enumerate(elements):\n",
    "    if e=='Fe':\n",
    "        XH = data_sub['FE_H']\n",
    "        XH_err = data_sub['FE_H_ERR']\n",
    "        XH_ivar = 1/(XH_err**2)\n",
    "        mask = np.where(np.isnan(XH) | np.isnan(XH_ivar) | (data_sub['FE_H_FLAG']!=0.))\n",
    "        XH[mask] = 0.0\n",
    "        XH_ivar[mask] = 0.0\n",
    "    elif e=='CN':\n",
    "        CH = data_sub['C_FE'] + data_sub['FE_H']\n",
    "        NH = data_sub['N_FE'] + data_sub['FE_H']\n",
    "        # Using equation and formalization that W22 use\n",
    "        XH = np.log10(10**(CH+8.39) + 10**(NH+7.78)) - np.log10(10**8.39 + 10**7.78)\n",
    "        XH_err = data_sub['C_FE_ERR']\n",
    "        XH_ivar = 1/(XH_err**2)\n",
    "        mask = np.where(np.isnan(XH) | np.isnan(XH_ivar) | (data_sub['C_FE_FLAG']!=0.) | \n",
    "                        (data_sub['N_FE_FLAG']!=0.))\n",
    "        XH[mask] = 0.0\n",
    "        XH_ivar[mask] = 0.0\n",
    "    else:\n",
    "        XH = data_sub[e.upper()+'_FE'] + data_sub['FE_H']\n",
    "        XH_err = data_sub[e.upper()+'_FE_ERR']\n",
    "        XH_ivar = 1/(XH_err**2)\n",
    "        mask = np.where(np.isnan(XH) | np.isnan(XH_ivar) | (data_sub[e.upper()+'_FE_FLAG']!=0.))\n",
    "        XH[mask] = 0.0\n",
    "        XH_ivar[mask] = 0.0\n",
    "    alldata[:,i] = XH\n",
    "    allivars[:,i] = XH_ivar"
   ]
  },
  {
   "cell_type": "markdown",
   "id": "afbece69",
   "metadata": {},
   "source": [
    "Save the files"
   ]
  },
  {
   "cell_type": "code",
   "execution_count": 6,
   "id": "7fc31602",
   "metadata": {},
   "outputs": [],
   "source": [
    "np.save('input/alldata_example', alldata)\n",
    "np.save('input/allivars_example', allivars)"
   ]
  }
 ],
 "metadata": {
  "kernelspec": {
   "display_name": "Python 3 (ipykernel)",
   "language": "python",
   "name": "python3"
  },
  "language_info": {
   "codemirror_mode": {
    "name": "ipython",
    "version": 3
   },
   "file_extension": ".py",
   "mimetype": "text/x-python",
   "name": "python",
   "nbconvert_exporter": "python",
   "pygments_lexer": "ipython3",
   "version": "3.10.9"
  }
 },
 "nbformat": 4,
 "nbformat_minor": 5
}
